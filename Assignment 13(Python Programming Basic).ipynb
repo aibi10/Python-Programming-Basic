{
 "cells": [
  {
   "cell_type": "raw",
   "metadata": {},
   "source": [
    "Question 1:\n",
    "Write a program that calculates and prints the value according to the given formula:\n",
    "Q = Square root of [(2 * C * D)/H]\n",
    "Following are the fixed values of C and H:\n",
    "C is 50. H is 30.\n",
    "D is the variable whose values should be input to your program in a comma-separated\n",
    "sequence."
   ]
  },
  {
   "cell_type": "code",
   "execution_count": 7,
   "metadata": {},
   "outputs": [
    {
     "name": "stdout",
     "output_type": "stream",
     "text": [
      "Enter comma separated values: 100, 150, 180\n",
      "100 - >  18\n",
      "150 - >  22\n",
      "180 - >  24\n"
     ]
    }
   ],
   "source": [
    "import math\n",
    "lst = list(map(int, input(\"Enter comma separated values: \").split(\",\")))\n",
    "for D in lst:\n",
    "    print(D, \"- > \", end = \" \")\n",
    "    Q1 = (2 * 50 * D) / 30\n",
    "    Q = Q1 ** 0.5\n",
    "    print(int(Q))"
   ]
  },
  {
   "cell_type": "raw",
   "metadata": {},
   "source": [
    "Question 2:\n",
    "Write a program which takes 2 digits, X,Y as input and generates a 2-dimensional array. The\n",
    "element value in the i-th row and j-th column of the array should be i*j.\n",
    "Note: i=0,1.., X-1; j=0,1,¡Y-1.\n",
    "Example\n",
    "Suppose the following inputs are given to the program:\n",
    "3,5\n",
    "Then, the output of the program should be:\n",
    "[[0, 0, 0, 0, 0], [0, 1, 2, 3, 4], [0, 2, 4, 6, 8]]"
   ]
  },
  {
   "cell_type": "code",
   "execution_count": 9,
   "metadata": {},
   "outputs": [],
   "source": [
    "def two_dimensional_arry(x1, y1):\n",
    "    lst = []\n",
    "    for i in range(x1):\n",
    "        lst1 = []\n",
    "        for j in range(y1):\n",
    "            lst1.append(i * j)\n",
    "        lst.append(lst1)\n",
    "    print(lst)"
   ]
  },
  {
   "cell_type": "raw",
   "metadata": {},
   "source": [
    "Question 3:\n",
    "Write a program that accepts a comma separated sequence of words as input and prints the\n",
    "words in a comma-separated sequence after sorting them alphabetically.\n",
    "Suppose the following input is supplied to the program:\n",
    "without,hello,bag,world\n",
    "Then, the output should be:\n",
    "bag,hello,without,world"
   ]
  },
  {
   "cell_type": "code",
   "execution_count": 13,
   "metadata": {},
   "outputs": [
    {
     "name": "stdout",
     "output_type": "stream",
     "text": [
      "enter the comma separated wordsab,ba,sc,vcs,ava,vs,hfs\n",
      "ab,ba,sc,vcs,ava,vs,hfs\n"
     ]
    }
   ],
   "source": [
    "lst = list(map(str, input(\"enter the comma separated words\").split(',')))\n",
    "lst.sort\n",
    "a = (',').join(lst)\n",
    "print(a)"
   ]
  },
  {
   "cell_type": "raw",
   "metadata": {},
   "source": [
    "Question 4:\n",
    "Write a program that accepts a sequence of whitespace separated words as input and prints\n",
    "the words after removing all duplicate words and sorting them alphanumerically.\n",
    "Suppose the following input is supplied to the program:\n",
    "hello world and practice makes perfect and hello world again\n",
    "Then, the output should be:\n",
    "again and hello makes perfect practice world"
   ]
  },
  {
   "cell_type": "code",
   "execution_count": 5,
   "metadata": {},
   "outputs": [
    {
     "name": "stdout",
     "output_type": "stream",
     "text": [
      "enter the space separated valueshello world and practice makes perfect and hello world again\n",
      "again and hello makes perfect practice world\n"
     ]
    }
   ],
   "source": [
    "set1 = set(map(str, input(\"enter the space separated values\").split(\" \")))\n",
    "lst = []\n",
    "for i in set1:\n",
    "    lst.append(i)\n",
    "lst.sort()\n",
    "lst1 = \" \".join(lst)\n",
    "print(lst1)"
   ]
  },
  {
   "cell_type": "raw",
   "metadata": {},
   "source": [
    "Question 5:\n",
    "Write a program that accepts a sentence and calculate the number of letters and digits.\n",
    "Suppose the following input is supplied to the program:\n",
    "hello world! 123\n",
    "Then, the output should be:\n",
    "LETTERS 10\n",
    "DIGITS 3"
   ]
  },
  {
   "cell_type": "code",
   "execution_count": 6,
   "metadata": {},
   "outputs": [
    {
     "name": "stdout",
     "output_type": "stream",
     "text": [
      "enter the sentence \n",
      "hello world! 123\n",
      "LETTERS 10\n",
      "DIGITS 3\n"
     ]
    }
   ],
   "source": [
    "sentence = input(\"enter the sentence \\n\")\n",
    "count1 = 0\n",
    "count2 = 0\n",
    "for i in sentence:\n",
    "    if (ord(i) >= 65 and ord(i) <= 90) or (ord(i) >=97 and ord(i) <= 122):\n",
    "        count1 += 1\n",
    "    elif ord(i) >= 48 and ord(i) <= 57:\n",
    "        count2 += 1\n",
    "print(\"LETTERS\", count1)\n",
    "print(\"DIGITS\", count2)"
   ]
  },
  {
   "cell_type": "raw",
   "metadata": {},
   "source": [
    "Question 6:\n",
    "A website requires the users to input username and password to register. Write a program to\n",
    "check the validity of password input by users.\n",
    "Following are the criteria for checking the password:\n",
    "1. At least 1 letter between [a-z]\n",
    "2. At least 1 number between [0-9]\n",
    "1. At least 1 letter between [A-Z]\n",
    "3. At least 1 character from [$#@]\n",
    "4. Minimum length of transaction password: 6\n",
    "5. Maximum length of transaction password: 12\n",
    "Your program should accept a sequence of comma separated passwords and will check them\n",
    "according to the above criteria. Passwords that match the criteria are to be printed, each\n",
    "separated by a comma.\n",
    "Example\n",
    "If the following passwords are given as input to the program:\n",
    "ABd1234@1,a F1#,2w3E*,2We3345\n",
    "Then, the output of the program should be:\n",
    "ABd1234@1"
   ]
  },
  {
   "cell_type": "code",
   "execution_count": 8,
   "metadata": {},
   "outputs": [
    {
     "name": "stdout",
     "output_type": "stream",
     "text": [
      "enter the comma separated passwordsABd1234@1,a F1#,2w3E*,2We3345\n",
      "ABd1234@1\n"
     ]
    }
   ],
   "source": [
    "passwords = list(map(str, input(\"enter the comma separated passwords\").split(\",\")))\n",
    "for i in passwords:\n",
    "    dic = {'smallcase' : 0, 'number' : 0, 'uppercase' : 0, 'special' : 0, 'min_len' : 0, 'max_len' : 0}\n",
    "    for j in i:\n",
    "        if ord(j) >= 97 and ord(j) <= 122:\n",
    "            dic['smallcase'] = 1\n",
    "        if ord(j) >= 48 and ord(j) <= 57:\n",
    "            dic['number'] = 1\n",
    "        if ord(j) >= 65 and ord(j) <= 90:\n",
    "            dic['uppercase'] = 1\n",
    "        if j in ['$', '#', '@']:\n",
    "            dic['special'] = 1\n",
    "        if len(i) >=6 and len(i) <= 12:\n",
    "            dic['min_len'] = 1 \n",
    "            dic['max_len'] = 1\n",
    "    if dic['smallcase'] == 1 and dic['number'] == 1 and dic['uppercase'] == 1 and dic['uppercase'] == 1 and dic['special'] == 1 and dic['min_len'] == 1 and dic['max_len'] == 1:\n",
    "        print(i)\n"
   ]
  }
 ],
 "metadata": {
  "kernelspec": {
   "display_name": "Python 3",
   "language": "python",
   "name": "python3"
  },
  "language_info": {
   "codemirror_mode": {
    "name": "ipython",
    "version": 3
   },
   "file_extension": ".py",
   "mimetype": "text/x-python",
   "name": "python",
   "nbconvert_exporter": "python",
   "pygments_lexer": "ipython3",
   "version": "3.8.3"
  }
 },
 "nbformat": 4,
 "nbformat_minor": 4
}
