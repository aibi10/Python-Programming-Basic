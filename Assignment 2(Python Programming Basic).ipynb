{
 "cells": [
  {
   "cell_type": "markdown",
   "metadata": {},
   "source": [
    "1. Write a Python program to convert kilometers to miles?"
   ]
  },
  {
   "cell_type": "code",
   "execution_count": 1,
   "metadata": {},
   "outputs": [
    {
     "name": "stdout",
     "output_type": "stream",
     "text": [
      "Enter the kilometers78.6\n",
      "48.8397606\n"
     ]
    }
   ],
   "source": [
    "km = float(input(\"Enter the kilometers\"))\n",
    "miles = km * 0.621371\n",
    "print(miles)"
   ]
  },
  {
   "cell_type": "markdown",
   "metadata": {},
   "source": [
    "2. Write a Python program to convert Celsius to Fahrenheit?"
   ]
  },
  {
   "cell_type": "code",
   "execution_count": 3,
   "metadata": {},
   "outputs": [
    {
     "name": "stdout",
     "output_type": "stream",
     "text": [
      "enter the value of Celsius100\n",
      "212.0\n"
     ]
    }
   ],
   "source": [
    "Celsius = float(input(\"enter the value of Celsius\"))\n",
    "F = 1.8 * Celsius + 32\n",
    "print(F)"
   ]
  },
  {
   "cell_type": "markdown",
   "metadata": {},
   "source": [
    "3. Write a Python program to display calendar?"
   ]
  },
  {
   "cell_type": "code",
   "execution_count": 9,
   "metadata": {},
   "outputs": [
    {
     "name": "stdout",
     "output_type": "stream",
     "text": [
      "Enter year: 2021\n",
      "Enter month: 07\n",
      "     July 2021\n",
      "Mo Tu We Th Fr Sa Su\n",
      "          1  2  3  4\n",
      " 5  6  7  8  9 10 11\n",
      "12 13 14 15 16 17 18\n",
      "19 20 21 22 23 24 25\n",
      "26 27 28 29 30 31\n",
      "\n"
     ]
    }
   ],
   "source": [
    "import calendar\n",
    "\n",
    "yyyy = int(input(\"Enter year: \"))\n",
    "mm = int(input(\"Enter month: \"))\n",
    "\n",
    "# display the calendar\n",
    "print(calendar.month(yyyy, mm))"
   ]
  },
  {
   "cell_type": "markdown",
   "metadata": {},
   "source": [
    "4. Write a Python program to solve quadratic equation?"
   ]
  },
  {
   "cell_type": "code",
   "execution_count": 11,
   "metadata": {},
   "outputs": [
    {
     "name": "stdout",
     "output_type": "stream",
     "text": [
      "the quadratic equation is of the form ax^2 + bx + c\n",
      "enter the value of a10\n",
      "enter the value of b5\n",
      "enter the value of c6\n",
      "Complex Roots\n",
      "-0.25  + i 0.733143914930759\n",
      "-0.25  - i 0.733143914930759\n"
     ]
    }
   ],
   "source": [
    "import math\n",
    "print(\"the quadratic equation is of the form ax^2 + bx + c\")\n",
    "\n",
    "a = int(input(\"enter the value of a\"))\n",
    "b = int(input(\"enter the value of b\"))\n",
    "c = int(input(\"enter the value of c\"))\n",
    "\n",
    "dis = b * b - 4 * a * c \n",
    "sqrt_val = math.sqrt(abs(dis)) \n",
    "\n",
    "if dis > 0: \n",
    "        print(\" real and different roots \") \n",
    "        print((-b + sqrt_val)/(2 * a)) \n",
    "        print((-b - sqrt_val)/(2 * a)) \n",
    "      \n",
    "elif dis == 0: \n",
    "        print(\" real and same roots\") \n",
    "        print(-b / (2 * a)) \n",
    "      \n",
    "    # when discriminant is less than 0\n",
    "else:\n",
    "        print(\"Complex Roots\") \n",
    "        print(- b / (2 * a), \" + i\", sqrt_val / (2 * a)) \n",
    "        print(- b / (2 * a), \" - i\", sqrt_val / (2 * a)) "
   ]
  },
  {
   "cell_type": "markdown",
   "metadata": {},
   "source": [
    "5. Write a Python program to swap two variables without temp variable?"
   ]
  },
  {
   "cell_type": "code",
   "execution_count": 12,
   "metadata": {},
   "outputs": [
    {
     "name": "stdout",
     "output_type": "stream",
     "text": [
      "enter the value of a \n",
      "10\n",
      "enter the value of b \n",
      "20\n",
      "the value of a is  20\n",
      "the value of b is  10\n"
     ]
    }
   ],
   "source": [
    "a = int(input(\"enter the value of a \\n\"))\n",
    "b = int(input(\"enter the value of b \\n\"))\n",
    "\n",
    "a, b = b, a\n",
    "print(\"the value of a is \", a)\n",
    "print(\"the value of b is \", b)"
   ]
  },
  {
   "cell_type": "code",
   "execution_count": null,
   "metadata": {},
   "outputs": [],
   "source": []
  }
 ],
 "metadata": {
  "kernelspec": {
   "display_name": "Python 3",
   "language": "python",
   "name": "python3"
  },
  "language_info": {
   "codemirror_mode": {
    "name": "ipython",
    "version": 3
   },
   "file_extension": ".py",
   "mimetype": "text/x-python",
   "name": "python",
   "nbconvert_exporter": "python",
   "pygments_lexer": "ipython3",
   "version": "3.8.3"
  }
 },
 "nbformat": 4,
 "nbformat_minor": 4
}
