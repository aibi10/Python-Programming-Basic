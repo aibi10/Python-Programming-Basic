{
 "cells": [
  {
   "cell_type": "raw",
   "metadata": {},
   "source": [
    "1. Write a Python program to Extract Unique values dictionary values?"
   ]
  },
  {
   "cell_type": "code",
   "execution_count": 5,
   "metadata": {},
   "outputs": [],
   "source": [
    "def unique_values(dic):\n",
    "    a = set()\n",
    "    for i in dic.values():\n",
    "        for j in i:\n",
    "            a.add(j)\n",
    "    print(a)"
   ]
  },
  {
   "cell_type": "raw",
   "metadata": {},
   "source": [
    "2. Write a Python program to find the sum of all items in a dictionary?"
   ]
  },
  {
   "cell_type": "code",
   "execution_count": 7,
   "metadata": {},
   "outputs": [],
   "source": [
    "def sum_of_items(dic):\n",
    "    sum = 0\n",
    "    for i in dic:\n",
    "        sum += dic[i]\n",
    "    print(sum)"
   ]
  },
  {
   "cell_type": "raw",
   "metadata": {},
   "source": [
    "3. Write a Python program to Merging two Dictionaries?"
   ]
  },
  {
   "cell_type": "code",
   "execution_count": 10,
   "metadata": {},
   "outputs": [],
   "source": [
    "def merge_dictionary(dic1, dic2):\n",
    "    for i in dic2:\n",
    "        if i not in dic1:\n",
    "            dic1[i] = dic2[i]\n",
    "        else:\n",
    "            dic1[i] += dic2[i]\n",
    "    print(dic1)"
   ]
  },
  {
   "cell_type": "raw",
   "metadata": {},
   "source": [
    "4. Write a Python program to convert key-values list to flat dictionary?"
   ]
  },
  {
   "cell_type": "code",
   "execution_count": 26,
   "metadata": {},
   "outputs": [],
   "source": [
    "def flat_dictionary(dic):\n",
    "    a = []\n",
    "    for i in dic:\n",
    "        a.append(dic[i])\n",
    "    dic1 = {}\n",
    "    for i in range(len(a[0])):\n",
    "        dic1[a[0][i]] = a[1][i]\n",
    "    print(dic1)"
   ]
  },
  {
   "cell_type": "raw",
   "metadata": {},
   "source": [
    "5. Write a Python program to insertion at the beginning in OrderedDict?"
   ]
  },
  {
   "cell_type": "code",
   "execution_count": 29,
   "metadata": {},
   "outputs": [],
   "source": [
    "from collections import OrderedDict\n",
    "def insert_at_beginning(dic):\n",
    "    iniordered_dict = OrderedDict(dic)\n",
    "    key = input(\"enter the key \\n\")\n",
    "    value = int(input(\"enter the value \\n\"))\n",
    "    iniordered_dict.update({key : value})\n",
    "    iniordered_dict.move_to_end(key, last = False)\n",
    "    print(iniordered_dict)"
   ]
  },
  {
   "cell_type": "raw",
   "metadata": {},
   "source": [
    "6. Write a Python program to check order of character in string using OrderedDict()?"
   ]
  },
  {
   "cell_type": "code",
   "execution_count": 53,
   "metadata": {},
   "outputs": [],
   "source": [
    "def checkOrder(input, pattern): \n",
    "    dict = OrderedDict.fromkeys(input) \n",
    "    print(dict)\n",
    "    ptrlen = 0\n",
    "    for key,value in dict.items(): \n",
    "        print(\"key = \", key, \"pattern[ptrlen] = \", pattern[ptrlen])\n",
    "        \n",
    "        if (key == pattern[ptrlen]):\n",
    "            print(\"inside if\", key, pattern[ptrlen])\n",
    "            ptrlen = ptrlen + 1\n",
    "          \n",
    "        if (ptrlen == (len(pattern))): \n",
    "            return 'true'\n",
    "  \n",
    "    return 'false'"
   ]
  },
  {
   "cell_type": "raw",
   "metadata": {},
   "source": [
    "7. Write a Python program to sort Python Dictionaries by Key or Value?"
   ]
  },
  {
   "cell_type": "code",
   "execution_count": 61,
   "metadata": {},
   "outputs": [],
   "source": [
    "def sorted_dic(dic):\n",
    "    for key in sorted(dic.keys()):\n",
    "        print(key, dic[key])"
   ]
  }
 ],
 "metadata": {
  "kernelspec": {
   "display_name": "Python 3",
   "language": "python",
   "name": "python3"
  },
  "language_info": {
   "codemirror_mode": {
    "name": "ipython",
    "version": 3
   },
   "file_extension": ".py",
   "mimetype": "text/x-python",
   "name": "python",
   "nbconvert_exporter": "python",
   "pygments_lexer": "ipython3",
   "version": "3.8.3"
  }
 },
 "nbformat": 4,
 "nbformat_minor": 4
}
