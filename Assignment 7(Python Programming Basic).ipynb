{
 "cells": [
  {
   "cell_type": "raw",
   "metadata": {},
   "source": [
    "1. Write a Python Program to find sum of array?"
   ]
  },
  {
   "cell_type": "code",
   "execution_count": 41,
   "metadata": {},
   "outputs": [],
   "source": [
    "def sum(arr):\n",
    "    sum = 0\n",
    "    for i in arr:\n",
    "        sum += i\n",
    "    print(sum)"
   ]
  },
  {
   "cell_type": "raw",
   "metadata": {},
   "source": [
    "2. Write a Python Program to find largest element in an array?"
   ]
  },
  {
   "cell_type": "code",
   "execution_count": 43,
   "metadata": {},
   "outputs": [],
   "source": [
    "def largest(arr):\n",
    "    max = -10000000\n",
    "    for i in arr:\n",
    "        if max < i:\n",
    "            max = i\n",
    "    print(max)"
   ]
  },
  {
   "cell_type": "raw",
   "metadata": {},
   "source": [
    "3. Write a Python Program for array rotation?"
   ]
  },
  {
   "cell_type": "code",
   "execution_count": 45,
   "metadata": {},
   "outputs": [],
   "source": [
    "def rotation(arr):\n",
    "    arr1 = arr[ : : -1]\n",
    "    print(arr1)"
   ]
  },
  {
   "cell_type": "raw",
   "metadata": {},
   "source": [
    "4. Write a Python Program to Split the array and add the first part to the end?"
   ]
  },
  {
   "cell_type": "code",
   "execution_count": 47,
   "metadata": {},
   "outputs": [],
   "source": [
    "def split_and_add(arr):\n",
    "    if len(arr) % 2 == 0:\n",
    "        l = len(arr) // 2\n",
    "        arr1 = arr[0 : l]\n",
    "        arr2 = arr[l : ]\n",
    "        arr2 = arr2[ : : -1]\n",
    "        for i in range(l):\n",
    "            arr1[i] = arr1[i] + arr2[i]\n",
    "        print(arr1)\n",
    "    else:\n",
    "        l = len(arr) // 2\n",
    "        arr1 = arr[0 : l]\n",
    "        arr2 = arr[l + 1 : ]\n",
    "        arr2 = arr2[ : : -1]\n",
    "        for i in range(l):\n",
    "            arr1[i] = arr1[i] + arr2[i]\n",
    "        arr1.append(arr[l])\n",
    "        print(arr1)"
   ]
  },
  {
   "cell_type": "raw",
   "metadata": {},
   "source": [
    "5. Write a Python Program to check if given array is Monotonic?"
   ]
  },
  {
   "cell_type": "code",
   "execution_count": 59,
   "metadata": {},
   "outputs": [],
   "source": [
    "def monotonic(arr):\n",
    "    a = arr[0]\n",
    "    flag = 0\n",
    "    flag1 = 0\n",
    "    for i in range(1, len(arr)):\n",
    "        if a >= arr[i]:\n",
    "            a = arr[i]\n",
    "        else:\n",
    "            flag = 1\n",
    "            break\n",
    "    for i in range(1, len(arr)):\n",
    "        if a <= arr[i]:\n",
    "            a = arr[i]\n",
    "        else:\n",
    "            flag1 = 1\n",
    "            break\n",
    "    if flag == 0 or flag1 == 0:\n",
    "        return True\n",
    "    else:\n",
    "        return False"
   ]
  }
 ],
 "metadata": {
  "kernelspec": {
   "display_name": "Python 3",
   "language": "python",
   "name": "python3"
  },
  "language_info": {
   "codemirror_mode": {
    "name": "ipython",
    "version": 3
   },
   "file_extension": ".py",
   "mimetype": "text/x-python",
   "name": "python",
   "nbconvert_exporter": "python",
   "pygments_lexer": "ipython3",
   "version": "3.8.3"
  }
 },
 "nbformat": 4,
 "nbformat_minor": 4
}
