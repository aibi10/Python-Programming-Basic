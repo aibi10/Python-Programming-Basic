{
 "cells": [
  {
   "cell_type": "raw",
   "metadata": {},
   "source": [
    "1. Write a Python Program to Add Two Matrices?"
   ]
  },
  {
   "cell_type": "code",
   "execution_count": 32,
   "metadata": {},
   "outputs": [],
   "source": [
    "def add_matrices(arr1, arr2):\n",
    "    a1 = len(arr1)\n",
    "    a2 = len(arr1[0])\n",
    "    a3 = len(arr2)\n",
    "    a4 = len(arr2[0])\n",
    "    if a1 == a3 and a2 == a4:\n",
    "        for i in range(a1):\n",
    "            for j in range(len(arr1[i])):\n",
    "                arr1[i][j] += arr2[i][j]\n",
    "    print(arr1)"
   ]
  },
  {
   "cell_type": "raw",
   "metadata": {},
   "source": [
    "2. Write a Python Program to Multiply Two Matrices?"
   ]
  },
  {
   "cell_type": "code",
   "execution_count": 55,
   "metadata": {},
   "outputs": [],
   "source": [
    "def mul_matrices(arr1, arr2):\n",
    "    a1 = len(arr1)\n",
    "    a2 = len(arr1[0])\n",
    "    a3 = len(arr2)\n",
    "    a4 = len(arr2[0])\n",
    "    if a2 == a3:\n",
    "        arr = []\n",
    "        for i in range(a1):\n",
    "            lst = []\n",
    "            for j in range(a4):\n",
    "                lst.append(0)\n",
    "            arr.append(lst)\n",
    "            \n",
    "        for i in range(len(arr1)):\n",
    "            for j in range(len(arr2[0])):\n",
    "                for k in range(len(arr2)):\n",
    "                    arr[i][j] += arr1[i][k] * arr2[k][j]\n",
    "        print(arr)"
   ]
  },
  {
   "cell_type": "raw",
   "metadata": {},
   "source": [
    "3. Write a Python Program to Transpose a Matrix?"
   ]
  },
  {
   "cell_type": "code",
   "execution_count": 72,
   "metadata": {},
   "outputs": [],
   "source": [
    "def transpose(arr):\n",
    "    a = len(arr)\n",
    "    b = len(arr[0])\n",
    "    arr1 = []\n",
    "    for i in range(b):\n",
    "        lst = []\n",
    "        for j in range(a):\n",
    "            lst.append(0)\n",
    "        arr1.append(lst)\n",
    "    for i in range(len(arr1)):\n",
    "        for j in range(len(arr1[0])):\n",
    "            arr1[i][j] = arr[j][i]\n",
    "    print(arr1)"
   ]
  },
  {
   "cell_type": "raw",
   "metadata": {},
   "source": [
    "4. Write a Python Program to Sort Words in Alphabetic Order?"
   ]
  },
  {
   "cell_type": "code",
   "execution_count": 84,
   "metadata": {},
   "outputs": [],
   "source": [
    "def sort(sen):\n",
    "    k = sen.split()\n",
    "    k.sort()\n",
    "    k = \" \".join(k)\n",
    "    print(k)"
   ]
  },
  {
   "cell_type": "raw",
   "metadata": {},
   "source": [
    "5. Write a Python Program to Remove Punctuation From a String?"
   ]
  },
  {
   "cell_type": "code",
   "execution_count": 87,
   "metadata": {},
   "outputs": [],
   "source": [
    "def remove_punc(sen):\n",
    "    string = ''\n",
    "    for i in sen:\n",
    "        if i == ',' or i == ';' or i == '.' or i == '!' or i == '-' or i == ':' or i == '?' or i == \"'\"  or i == '\"':\n",
    "            pass\n",
    "        else:\n",
    "            string += i\n",
    "    print(string)"
   ]
  }
 ],
 "metadata": {
  "kernelspec": {
   "display_name": "Python 3",
   "language": "python",
   "name": "python3"
  },
  "language_info": {
   "codemirror_mode": {
    "name": "ipython",
    "version": 3
   },
   "file_extension": ".py",
   "mimetype": "text/x-python",
   "name": "python",
   "nbconvert_exporter": "python",
   "pygments_lexer": "ipython3",
   "version": "3.8.3"
  }
 },
 "nbformat": 4,
 "nbformat_minor": 4
}
