{
 "cells": [
  {
   "cell_type": "raw",
   "metadata": {},
   "source": [
    "1. Write a Python program to find words which are greater than given length k?"
   ]
  },
  {
   "cell_type": "code",
   "execution_count": 10,
   "metadata": {},
   "outputs": [],
   "source": [
    "def greater_than_k(string, k):\n",
    "    string = string.split(\" \")\n",
    "    for i in string:\n",
    "        if len(i) > k:\n",
    "            print(i)"
   ]
  },
  {
   "cell_type": "raw",
   "metadata": {},
   "source": [
    "2. Write a Python program for removing i-th character from a string?"
   ]
  },
  {
   "cell_type": "code",
   "execution_count": 12,
   "metadata": {},
   "outputs": [],
   "source": [
    "def remove_ith_character(str, i):\n",
    "    str = str[0 : i] + str[i + 1 : ]\n",
    "    print(str)"
   ]
  },
  {
   "cell_type": "raw",
   "metadata": {},
   "source": [
    "3. Write a Python program to split and join a string?"
   ]
  },
  {
   "cell_type": "code",
   "execution_count": 14,
   "metadata": {},
   "outputs": [],
   "source": [
    "def split_and_join(str):\n",
    "    lst = str.split(\" \")\n",
    "    print(lst)\n",
    "    str1 = \" \".join(lst)\n",
    "    print(str1)"
   ]
  },
  {
   "cell_type": "raw",
   "metadata": {},
   "source": [
    "4. Write a Python to check if a given string is binary string or not?"
   ]
  },
  {
   "cell_type": "code",
   "execution_count": 16,
   "metadata": {},
   "outputs": [],
   "source": [
    "def binary_string(string):\n",
    "    flag = 0\n",
    "    for i in string:\n",
    "        if i == '0' or i == '1':\n",
    "            pass\n",
    "        else:\n",
    "            flag = 1\n",
    "            break\n",
    "    if flag == 1:\n",
    "        print(\"not a binary string\")\n",
    "    else:\n",
    "        print(\"binary string\")"
   ]
  },
  {
   "cell_type": "raw",
   "metadata": {},
   "source": [
    "5. Write a Python program to find uncommon words from two Strings?"
   ]
  },
  {
   "cell_type": "code",
   "execution_count": 32,
   "metadata": {},
   "outputs": [],
   "source": [
    "def uncommon_words(str1, str2):\n",
    "    set1 = set()\n",
    "    set2 = set()\n",
    "    lst1 = str1.split(\" \")\n",
    "    lst2 = str2.split(\" \")\n",
    "    for i in lst1:\n",
    "        if i not in set1:\n",
    "            set1.add(i)\n",
    "    for i in lst2:\n",
    "        if i not in set2:\n",
    "            set2.add(i)\n",
    "    lst = []\n",
    "    for i in set1:\n",
    "        if i not in set2:\n",
    "            lst.append(i)\n",
    "    for i in set2:\n",
    "        if i not in set1:\n",
    "            lst.append(i)\n",
    "    print(lst)"
   ]
  },
  {
   "cell_type": "raw",
   "metadata": {},
   "source": [
    "6. Write a Python to find all duplicate characters in string?"
   ]
  },
  {
   "cell_type": "code",
   "execution_count": 37,
   "metadata": {},
   "outputs": [],
   "source": [
    "def find_duplicate(str):\n",
    "    lst = str.split(\" \")\n",
    "    lst1 = set()\n",
    "    dic = set()\n",
    "    for i in lst:\n",
    "        if i not in dic:\n",
    "            dic.add(i)\n",
    "        else:\n",
    "            lst1.add(i)\n",
    "    print(lst1)"
   ]
  },
  {
   "cell_type": "raw",
   "metadata": {},
   "source": [
    "7. Write a Python Program to check if a string contains any special character?"
   ]
  },
  {
   "cell_type": "code",
   "execution_count": 39,
   "metadata": {},
   "outputs": [],
   "source": [
    "import re\n",
    "def special_character(str):\n",
    "    regex = re.compile('[@_!#$%^&*()<>?/\\|}{~:]')\n",
    "    if(regex.search(string) == None):\n",
    "        print(\"String does not contain special charcters\")     \n",
    "    else:\n",
    "        print(\"String contains special charcters\")"
   ]
  }
 ],
 "metadata": {
  "kernelspec": {
   "display_name": "Python 3",
   "language": "python",
   "name": "python3"
  },
  "language_info": {
   "codemirror_mode": {
    "name": "ipython",
    "version": 3
   },
   "file_extension": ".py",
   "mimetype": "text/x-python",
   "name": "python",
   "nbconvert_exporter": "python",
   "pygments_lexer": "ipython3",
   "version": "3.8.3"
  }
 },
 "nbformat": 4,
 "nbformat_minor": 4
}
