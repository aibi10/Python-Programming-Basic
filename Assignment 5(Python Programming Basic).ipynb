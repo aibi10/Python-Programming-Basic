{
 "cells": [
  {
   "cell_type": "raw",
   "metadata": {},
   "source": [
    "1. Write a Python Program to Find LCM?"
   ]
  },
  {
   "cell_type": "code",
   "execution_count": 8,
   "metadata": {},
   "outputs": [],
   "source": [
    "def lcm(a, b):\n",
    "    if a > b:\n",
    "        greater = a\n",
    "    elif a < b:\n",
    "        greater = b\n",
    "    else:\n",
    "        print(\"the lcm is\", a)\n",
    "        count = 1\n",
    "    if count != 1:\n",
    "        while(True):\n",
    "            if greater % a == 0 and greater % b == 0:\n",
    "                break\n",
    "            greater += 1\n",
    "        print(\"the lcm is\", greater)"
   ]
  },
  {
   "cell_type": "raw",
   "metadata": {},
   "source": [
    "2. Write a Python Program to Find HCF?"
   ]
  },
  {
   "cell_type": "code",
   "execution_count": 11,
   "metadata": {},
   "outputs": [],
   "source": [
    "def hcf(a, b):\n",
    "    if a > b:\n",
    "        max = a\n",
    "        min = b\n",
    "    elif a < b:\n",
    "        max = b\n",
    "        min = a\n",
    "    while max % min != 0:\n",
    "        a = max % min\n",
    "        b = min\n",
    "        min = a\n",
    "        max = b\n",
    "    print(\"the hcf is\", min)"
   ]
  },
  {
   "cell_type": "raw",
   "metadata": {},
   "source": [
    "3. Write a Python Program to Convert Decimal to Binary, Octal and Hexadecimal?"
   ]
  },
  {
   "cell_type": "code",
   "execution_count": 152,
   "metadata": {},
   "outputs": [],
   "source": [
    "class conversion:\n",
    "    def dec_to_binary(self, n):\n",
    "        self.lst = []\n",
    "        while n > 0:\n",
    "            a = n % 2\n",
    "            self.lst.append(a)\n",
    "            n = n // 2\n",
    "        for i in range(len(self.lst)- 1, -1, -1):\n",
    "            print(self.lst[i], end = \" \")\n",
    "        \n",
    "    def dec_to_oct(self, n):\n",
    "        self.lst = []\n",
    "        while n > 0:\n",
    "            a = n % 8\n",
    "            self.lst.append(a)\n",
    "            n = n // 8\n",
    "        for i in range(len(self.lst)- 1, -1, -1):\n",
    "            print(self.lst[i], end = \" \")\n",
    "        \n",
    "    def dec_to_hex(self, n):\n",
    "        self.lst = []\n",
    "        while n > 0:\n",
    "            a = n % 16\n",
    "            if a <= 9:\n",
    "                self.lst.append(a)\n",
    "            else:\n",
    "                if a == 10:\n",
    "                    self.lst.append('A')\n",
    "                elif a == 11:\n",
    "                    self.lst.append('B')\n",
    "                elif a == 12:\n",
    "                    self.lst.append('C')\n",
    "                elif a == 13:\n",
    "                    self.lst.append('D')\n",
    "                elif a == 14:\n",
    "                    self.lst.append('E')\n",
    "                elif a == 15:\n",
    "                    self.lst.append('F')\n",
    "            n = n // 16\n",
    "        for i in range(len(self.lst)- 1, -1, -1):\n",
    "            print(self.lst[i], end = \" \")"
   ]
  },
  {
   "cell_type": "raw",
   "metadata": {},
   "source": [
    "4. Write a Python Program To Find ASCII value of a character?"
   ]
  },
  {
   "cell_type": "code",
   "execution_count": 162,
   "metadata": {},
   "outputs": [],
   "source": [
    "inp = input(\"enter a single character \\n\")\n",
    "inp = inp[0 : 1]\n",
    "print(ord(inp))"
   ]
  },
  {
   "cell_type": "raw",
   "metadata": {},
   "source": [
    "5. Write a Python Program to Make a Simple Calculator with 4 basic mathematical operations?"
   ]
  },
  {
   "cell_type": "code",
   "execution_count": 164,
   "metadata": {},
   "outputs": [],
   "source": [
    "def calculator(symbol):\n",
    "    a = int(input(\"enter the first number\\n\"))\n",
    "    b = int(input(\"enter the first number\\n\"))\n",
    "    if symbol == '+':\n",
    "        return a + b\n",
    "    elif symbol == '-':\n",
    "        return a - b\n",
    "    elif symbol == '/':\n",
    "        return a / b;\n",
    "    elif symbol == '*':\n",
    "        return a * b\n",
    "    else:\n",
    "        print(\"wrong symbol\")"
   ]
  }
 ],
 "metadata": {
  "kernelspec": {
   "display_name": "Python 3",
   "language": "python",
   "name": "python3"
  },
  "language_info": {
   "codemirror_mode": {
    "name": "ipython",
    "version": 3
   },
   "file_extension": ".py",
   "mimetype": "text/x-python",
   "name": "python",
   "nbconvert_exporter": "python",
   "pygments_lexer": "ipython3",
   "version": "3.8.3"
  }
 },
 "nbformat": 4,
 "nbformat_minor": 4
}
