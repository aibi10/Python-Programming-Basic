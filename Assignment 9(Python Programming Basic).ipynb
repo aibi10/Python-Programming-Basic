{
 "cells": [
  {
   "cell_type": "raw",
   "metadata": {},
   "source": [
    "1. Write a Python program to check if the given number is a Disarium Number?"
   ]
  },
  {
   "cell_type": "code",
   "execution_count": 7,
   "metadata": {},
   "outputs": [],
   "source": [
    "def disarium(n):\n",
    "    temp = n\n",
    "    n = str(n)\n",
    "    sum= 0 \n",
    "    for i in range(len(n)):\n",
    "        num = int(n[i]) ** (i + 1)\n",
    "        sum += num\n",
    "    if sum == temp:\n",
    "        print(n, \"is a disarium number\")"
   ]
  },
  {
   "cell_type": "raw",
   "metadata": {},
   "source": [
    "2. Write a Python program to print all disarium numbers between 1 to 100?"
   ]
  },
  {
   "cell_type": "code",
   "execution_count": 11,
   "metadata": {},
   "outputs": [],
   "source": [
    "def disarium_1_to_100():\n",
    "    for i in range(1, 101):\n",
    "        temp = i\n",
    "        n = i\n",
    "        n = str(n)\n",
    "        sum = 0\n",
    "        for j in range(len(n)):\n",
    "            num = int(n[j]) ** (j + 1)\n",
    "            sum += num\n",
    "        if sum == temp:\n",
    "            print(i, \"i is a disarium number\")"
   ]
  },
  {
   "cell_type": "raw",
   "metadata": {},
   "source": [
    "3. Write a Python program to check if the given number is Happy Number?"
   ]
  },
  {
   "cell_type": "code",
   "execution_count": 33,
   "metadata": {},
   "outputs": [],
   "source": [
    "def happy(n):\n",
    "    temp = n\n",
    "    if n == 1 or n == 7:\n",
    "        return True\n",
    "    elif len(str(n)) == 1:\n",
    "        return False\n",
    "    else:\n",
    "        p = str(n)\n",
    "        sum = 0\n",
    "        for i in p:\n",
    "            sum += int(i) ** 2\n",
    "        return happy(sum)"
   ]
  },
  {
   "cell_type": "raw",
   "metadata": {},
   "source": [
    "4. Write a Python program to print all happy numbers between 1 and 100?"
   ]
  },
  {
   "cell_type": "code",
   "execution_count": 35,
   "metadata": {},
   "outputs": [],
   "source": [
    "for i in range(1, 101):\n",
    "    k = i\n",
    "    a = happy(i)\n",
    "    if a == True:\n",
    "        print(k, \"is a happy number\")"
   ]
  },
  {
   "cell_type": "raw",
   "metadata": {},
   "source": [
    "5. Write a Python program to determine whether the given number is a Harshad Number?"
   ]
  },
  {
   "cell_type": "code",
   "execution_count": 39,
   "metadata": {},
   "outputs": [],
   "source": [
    "def harshad(n):\n",
    "    p = str(n)\n",
    "    sum = 0\n",
    "    for i in p:\n",
    "        sum += int(i)\n",
    "    if n % sum == 0:\n",
    "        return True\n",
    "    else:\n",
    "        return False"
   ]
  },
  {
   "cell_type": "raw",
   "metadata": {},
   "source": [
    "6. Write a Python program to print all pronic numbers between 1 and 100?"
   ]
  },
  {
   "cell_type": "code",
   "execution_count": 44,
   "metadata": {},
   "outputs": [],
   "source": [
    "for i in range(1, 101):\n",
    "    a = harshad(i)\n",
    "    if a == True:\n",
    "        print(i, \"is a harshad number\")"
   ]
  }
 ],
 "metadata": {
  "kernelspec": {
   "display_name": "Python 3",
   "language": "python",
   "name": "python3"
  },
  "language_info": {
   "codemirror_mode": {
    "name": "ipython",
    "version": 3
   },
   "file_extension": ".py",
   "mimetype": "text/x-python",
   "name": "python",
   "nbconvert_exporter": "python",
   "pygments_lexer": "ipython3",
   "version": "3.8.3"
  }
 },
 "nbformat": 4,
 "nbformat_minor": 4
}
